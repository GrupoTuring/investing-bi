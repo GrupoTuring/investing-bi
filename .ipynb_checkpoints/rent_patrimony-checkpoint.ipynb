{
 "cells": [
  {
   "cell_type": "code",
   "execution_count": 1,
   "id": "crucial-debut",
   "metadata": {},
   "outputs": [],
   "source": [
    "import pandas as pd \n",
    "import numpy as np\n",
    "from matplotlib import pyplot as plt\n",
    "\n",
    "from utils import get_wallet\n",
    "from portfolio_prices import get_portfolio_prices"
   ]
  },
  {
   "cell_type": "code",
   "execution_count": 2,
   "id": "obvious-matter",
   "metadata": {},
   "outputs": [],
   "source": [
    "def mount_wallet_data_frame(google_sheet_key: str) -> pd.DataFrame:\n",
    "    \n",
    "    wallet_items = get_wallet(google_sheet_key)\n",
    "    \n",
    "    wallet = pd.DataFrame(wallet_items).set_index('Date')\n",
    "    \n",
    "    wallet.index = pd.to_datetime(wallet.index)\n",
    "    \n",
    "    return wallet"
   ]
  },
  {
   "cell_type": "code",
   "execution_count": 3,
   "id": "continent-coach",
   "metadata": {},
   "outputs": [],
   "source": [
    "def get_assets_by_type(wallet, asset_type):\n",
    "    \n",
    "    asset_filter = wallet[wallet.asset_type == asset_type]\n",
    "    \n",
    "    assets = set(asset_filter.asset_name.to_list())\n",
    "    \n",
    "    return assets"
   ]
  },
  {
   "cell_type": "code",
   "execution_count": 4,
   "id": "requested-coordinator",
   "metadata": {},
   "outputs": [],
   "source": [
    "def get_portfolio_performace(wallet):\n",
    "    \n",
    "    funds = get_assets_by_type(wallet, 'fund')\n",
    "    stocks = get_assets_by_type(wallet, 'stock')\n",
    "    etfs = get_assets_by_type(wallet, 'etf')\n",
    "    \n",
    "    allocations = wallet.pivot(columns = 'asset_name').value.fillna(0)\n",
    "    \n",
    "    portfolio_prices = get_portfolio_prices(stocks, funds, etfs, start_date='01/01/2018').asfreq('B')\n",
    "    \n",
    "    return portfolio_prices"
   ]
  },
  {
   "cell_type": "code",
   "execution_count": 5,
   "id": "suffering-steel",
   "metadata": {},
   "outputs": [],
   "source": [
    "def mount_wallet_shares(wallet, prices):\n",
    "    \n",
    "    wallet_shares = []\n",
    "    \n",
    "    for i in range(len(wallet)):\n",
    "        \n",
    "        asset_name = wallet.iloc[i].asset_name\n",
    "        value = wallet.iloc[i].value\n",
    "        date = wallet.index[i]\n",
    "        \n",
    "        shares = float(value) / prices[asset_name][date]\n",
    "        \n",
    "        wallet_shares.append(shares)\n",
    "        \n",
    "    wallet['shares'] = wallet_shares \n",
    "    \n",
    "    for asset in wallet.asset_name.unique():\n",
    "        \n",
    "        wallet.loc[wallet.asset_name == asset, 'shares'] = wallet[wallet.asset_name == asset].shares.cumsum()\n",
    "    \n",
    "    return wallet"
   ]
  },
  {
   "cell_type": "code",
   "execution_count": 88,
   "id": "simplified-flashing",
   "metadata": {},
   "outputs": [],
   "source": [
    "wallet = mount_wallet_data_frame('14KWHuqot8Fr74-Yw4x0brDDdSZDoQL7SBiN1Q5vL188')"
   ]
  },
  {
   "cell_type": "code",
   "execution_count": 68,
   "id": "round-discretion",
   "metadata": {},
   "outputs": [],
   "source": [
    "portfolio_prices = get_portfolio_performace(wallet)\n",
    "prices = portfolio_prices['Close']"
   ]
  },
  {
   "cell_type": "code",
   "execution_count": 89,
   "id": "canadian-tracker",
   "metadata": {},
   "outputs": [],
   "source": [
    "shares = mount_wallet_shares(wallet, prices)"
   ]
  },
  {
   "cell_type": "code",
   "execution_count": 90,
   "id": "following-delivery",
   "metadata": {},
   "outputs": [
    {
     "data": {
      "text/html": [
       "<div>\n",
       "<style scoped>\n",
       "    .dataframe tbody tr th:only-of-type {\n",
       "        vertical-align: middle;\n",
       "    }\n",
       "\n",
       "    .dataframe tbody tr th {\n",
       "        vertical-align: top;\n",
       "    }\n",
       "\n",
       "    .dataframe thead th {\n",
       "        text-align: right;\n",
       "    }\n",
       "</style>\n",
       "<table border=\"1\" class=\"dataframe\">\n",
       "  <thead>\n",
       "    <tr style=\"text-align: right;\">\n",
       "      <th></th>\n",
       "      <th>asset_type</th>\n",
       "      <th>asset_name</th>\n",
       "      <th>value</th>\n",
       "      <th>shares</th>\n",
       "    </tr>\n",
       "    <tr>\n",
       "      <th>Date</th>\n",
       "      <th></th>\n",
       "      <th></th>\n",
       "      <th></th>\n",
       "      <th></th>\n",
       "    </tr>\n",
       "  </thead>\n",
       "  <tbody>\n",
       "    <tr>\n",
       "      <th>2020-12-17</th>\n",
       "      <td>fund</td>\n",
       "      <td>Arx Income Fundo De Investimento Em Acoes</td>\n",
       "      <td>800</td>\n",
       "      <td>11.041641</td>\n",
       "    </tr>\n",
       "    <tr>\n",
       "      <th>2020-12-17</th>\n",
       "      <td>stock</td>\n",
       "      <td>BPAC11</td>\n",
       "      <td>280</td>\n",
       "      <td>3.057770</td>\n",
       "    </tr>\n",
       "    <tr>\n",
       "      <th>2020-12-17</th>\n",
       "      <td>etf</td>\n",
       "      <td>Fundo de Invest Ishares SP 500</td>\n",
       "      <td>2061</td>\n",
       "      <td>10.152709</td>\n",
       "    </tr>\n",
       "    <tr>\n",
       "      <th>2021-01-20</th>\n",
       "      <td>etf</td>\n",
       "      <td>Fundo de Invest Ishares SP 500</td>\n",
       "      <td>-1000.2</td>\n",
       "      <td>5.634074</td>\n",
       "    </tr>\n",
       "  </tbody>\n",
       "</table>\n",
       "</div>"
      ],
      "text/plain": [
       "           asset_type                                 asset_name    value  \\\n",
       "Date                                                                        \n",
       "2020-12-17       fund  Arx Income Fundo De Investimento Em Acoes      800   \n",
       "2020-12-17      stock                                     BPAC11      280   \n",
       "2020-12-17        etf             Fundo de Invest Ishares SP 500     2061   \n",
       "2021-01-20        etf             Fundo de Invest Ishares SP 500  -1000.2   \n",
       "\n",
       "               shares  \n",
       "Date                   \n",
       "2020-12-17  11.041641  \n",
       "2020-12-17   3.057770  \n",
       "2020-12-17  10.152709  \n",
       "2021-01-20   5.634074  "
      ]
     },
     "execution_count": 90,
     "metadata": {},
     "output_type": "execute_result"
    }
   ],
   "source": [
    "shares"
   ]
  },
  {
   "cell_type": "code",
   "execution_count": 91,
   "id": "corrected-relaxation",
   "metadata": {},
   "outputs": [],
   "source": [
    "def get_allocation_time_series(wallet):\n",
    "    \n",
    "    allocations = wallet.pivot(columns = 'asset_name').shares.asfreq('B')\n",
    "    \n",
    "    last_date = allocations.index[-1]\n",
    "    \n",
    "    df = pd.DataFrame(pd.date_range(start=last_date, end='2021-04-07', freq='B'))\n",
    "    df.columns = ['Date']\n",
    "    \n",
    "    allocations = allocations.merge(df, on='Date', how='outer').set_index('Date')\n",
    "    \n",
    "    allocations = allocations.fillna(method='ffill').astype(np.float64).asfreq('B')\n",
    "    \n",
    "    return allocations"
   ]
  },
  {
   "cell_type": "code",
   "execution_count": 92,
   "id": "residential-blocking",
   "metadata": {},
   "outputs": [],
   "source": [
    "allocations = get_allocation_time_series(shares)"
   ]
  },
  {
   "cell_type": "code",
   "execution_count": 93,
   "id": "proved-screening",
   "metadata": {},
   "outputs": [
    {
     "data": {
      "text/html": [
       "<div>\n",
       "<style scoped>\n",
       "    .dataframe tbody tr th:only-of-type {\n",
       "        vertical-align: middle;\n",
       "    }\n",
       "\n",
       "    .dataframe tbody tr th {\n",
       "        vertical-align: top;\n",
       "    }\n",
       "\n",
       "    .dataframe thead th {\n",
       "        text-align: right;\n",
       "    }\n",
       "</style>\n",
       "<table border=\"1\" class=\"dataframe\">\n",
       "  <thead>\n",
       "    <tr style=\"text-align: right;\">\n",
       "      <th></th>\n",
       "      <th>Arx Income Fundo De Investimento Em Acoes</th>\n",
       "      <th>BPAC11</th>\n",
       "      <th>Fundo de Invest Ishares SP 500</th>\n",
       "    </tr>\n",
       "    <tr>\n",
       "      <th>Date</th>\n",
       "      <th></th>\n",
       "      <th></th>\n",
       "      <th></th>\n",
       "    </tr>\n",
       "  </thead>\n",
       "  <tbody>\n",
       "    <tr>\n",
       "      <th>2020-12-17</th>\n",
       "      <td>11.041641</td>\n",
       "      <td>3.05777</td>\n",
       "      <td>10.152709</td>\n",
       "    </tr>\n",
       "    <tr>\n",
       "      <th>2020-12-18</th>\n",
       "      <td>11.041641</td>\n",
       "      <td>3.05777</td>\n",
       "      <td>10.152709</td>\n",
       "    </tr>\n",
       "    <tr>\n",
       "      <th>2020-12-21</th>\n",
       "      <td>11.041641</td>\n",
       "      <td>3.05777</td>\n",
       "      <td>10.152709</td>\n",
       "    </tr>\n",
       "    <tr>\n",
       "      <th>2020-12-22</th>\n",
       "      <td>11.041641</td>\n",
       "      <td>3.05777</td>\n",
       "      <td>10.152709</td>\n",
       "    </tr>\n",
       "    <tr>\n",
       "      <th>2020-12-23</th>\n",
       "      <td>11.041641</td>\n",
       "      <td>3.05777</td>\n",
       "      <td>10.152709</td>\n",
       "    </tr>\n",
       "    <tr>\n",
       "      <th>...</th>\n",
       "      <td>...</td>\n",
       "      <td>...</td>\n",
       "      <td>...</td>\n",
       "    </tr>\n",
       "    <tr>\n",
       "      <th>2021-04-01</th>\n",
       "      <td>11.041641</td>\n",
       "      <td>3.05777</td>\n",
       "      <td>5.634074</td>\n",
       "    </tr>\n",
       "    <tr>\n",
       "      <th>2021-04-02</th>\n",
       "      <td>11.041641</td>\n",
       "      <td>3.05777</td>\n",
       "      <td>5.634074</td>\n",
       "    </tr>\n",
       "    <tr>\n",
       "      <th>2021-04-05</th>\n",
       "      <td>11.041641</td>\n",
       "      <td>3.05777</td>\n",
       "      <td>5.634074</td>\n",
       "    </tr>\n",
       "    <tr>\n",
       "      <th>2021-04-06</th>\n",
       "      <td>11.041641</td>\n",
       "      <td>3.05777</td>\n",
       "      <td>5.634074</td>\n",
       "    </tr>\n",
       "    <tr>\n",
       "      <th>2021-04-07</th>\n",
       "      <td>11.041641</td>\n",
       "      <td>3.05777</td>\n",
       "      <td>5.634074</td>\n",
       "    </tr>\n",
       "  </tbody>\n",
       "</table>\n",
       "<p>80 rows × 3 columns</p>\n",
       "</div>"
      ],
      "text/plain": [
       "            Arx Income Fundo De Investimento Em Acoes   BPAC11  \\\n",
       "Date                                                             \n",
       "2020-12-17                                  11.041641  3.05777   \n",
       "2020-12-18                                  11.041641  3.05777   \n",
       "2020-12-21                                  11.041641  3.05777   \n",
       "2020-12-22                                  11.041641  3.05777   \n",
       "2020-12-23                                  11.041641  3.05777   \n",
       "...                                               ...      ...   \n",
       "2021-04-01                                  11.041641  3.05777   \n",
       "2021-04-02                                  11.041641  3.05777   \n",
       "2021-04-05                                  11.041641  3.05777   \n",
       "2021-04-06                                  11.041641  3.05777   \n",
       "2021-04-07                                  11.041641  3.05777   \n",
       "\n",
       "            Fundo de Invest Ishares SP 500  \n",
       "Date                                        \n",
       "2020-12-17                       10.152709  \n",
       "2020-12-18                       10.152709  \n",
       "2020-12-21                       10.152709  \n",
       "2020-12-22                       10.152709  \n",
       "2020-12-23                       10.152709  \n",
       "...                                    ...  \n",
       "2021-04-01                        5.634074  \n",
       "2021-04-02                        5.634074  \n",
       "2021-04-05                        5.634074  \n",
       "2021-04-06                        5.634074  \n",
       "2021-04-07                        5.634074  \n",
       "\n",
       "[80 rows x 3 columns]"
      ]
     },
     "execution_count": 93,
     "metadata": {},
     "output_type": "execute_result"
    }
   ],
   "source": [
    "allocations"
   ]
  },
  {
   "cell_type": "code",
   "execution_count": 94,
   "id": "domestic-thunder",
   "metadata": {},
   "outputs": [],
   "source": [
    "def get_portfolio(prices, allocations):\n",
    "    \n",
    "    portfolio = (prices.loc[:, allocations.columns] * allocations).asfreq('B').fillna(method='ffill')\n",
    "    \n",
    "    return portfolio\n",
    "\n",
    "def get_patrimony(portfolio):\n",
    "    \n",
    "    patrimony = portfolio.sum(axis=1)\n",
    "    \n",
    "    return patrimony"
   ]
  },
  {
   "cell_type": "code",
   "execution_count": 95,
   "id": "perceived-ghana",
   "metadata": {},
   "outputs": [],
   "source": [
    "portfolio = get_portfolio(prices, allocations)"
   ]
  },
  {
   "cell_type": "code",
   "execution_count": 96,
   "id": "historical-waste",
   "metadata": {},
   "outputs": [
    {
     "data": {
      "text/plain": [
       "<AxesSubplot:xlabel='Date'>"
      ]
     },
     "execution_count": 96,
     "metadata": {},
     "output_type": "execute_result"
    },
    {
     "data": {
      "image/png": "[encoded data removed]",
      "text/plain": [
       "<Figure size 432x288 with 1 Axes>"
      ]
     },
     "metadata": {
      "needs_background": "light"
     },
     "output_type": "display_data"
    }
   ],
   "source": [
    "get_patrimony(portfolio).loc['2020-12':].plot()"
   ]
  },
  {
   "cell_type": "code",
   "execution_count": 101,
   "id": "valuable-experience",
   "metadata": {},
   "outputs": [],
   "source": [
    "def get_returns(prices, portfolio):\n",
    "    \n",
    "    weights = portfolio.div(portfolio.sum(axis=1), axis=0).fillna(0)\n",
    "    \n",
    "    returns = pd.DataFrame(index = weights.index)\n",
    "    returns['Returns'] = 0\n",
    "\n",
    "    for time in weights.index:\n",
    "        returns['Returns'].loc[time] = np.dot(prices.pct_change().loc[time], weights.loc[time])\n",
    "        \n",
    "    return returns"
   ]
  },
  {
   "cell_type": "code",
   "execution_count": 102,
   "id": "primary-peace",
   "metadata": {},
   "outputs": [
    {
     "data": {
      "text/plain": [
       "<AxesSubplot:xlabel='Date'>"
      ]
     },
     "execution_count": 102,
     "metadata": {},
     "output_type": "execute_result"
    },
    {
     "data": {
      "image/png": "[encoded data removed]",
      "text/plain": [
       "<Figure size 432x288 with 1 Axes>"
      ]
     },
     "metadata": {
      "needs_background": "light"
     },
     "output_type": "display_data"
    }
   ],
   "source": [
    "get_returns(prices, portfolio).loc['2020-12':].plot()"
   ]
  },
  {
   "cell_type": "code",
   "execution_count": 99,
   "id": "composed-tanzania",
   "metadata": {},
   "outputs": [],
   "source": [
    "def get_cumulative_returns(prices, portfolio):\n",
    "    \n",
    "    returns = get_returns(prices, portfolio)\n",
    "                          \n",
    "    cumulative_returns = (1 + returns).cumprod()\n",
    "                          \n",
    "    return cumulative_returns"
   ]
  },
  {
   "cell_type": "code",
   "execution_count": 100,
   "id": "liked-consumption",
   "metadata": {},
   "outputs": [
    {
     "data": {
      "text/plain": [
       "<AxesSubplot:xlabel='Date'>"
      ]
     },
     "execution_count": 100,
     "metadata": {},
     "output_type": "execute_result"
    },
    {
     "data": {
      "image/png": "[encoded data removed]",
      "text/plain": [
       "<Figure size 432x288 with 1 Axes>"
      ]
     },
     "metadata": {
      "needs_background": "light"
     },
     "output_type": "display_data"
    }
   ],
   "source": [
    "get_cumulative_returns(prices, portfolio).loc['2020-12':].plot()"
   ]
  },
  {
   "cell_type": "code",
   "execution_count": null,
   "id": "starting-glory",
   "metadata": {},
   "outputs": [],
   "source": []
  }
 ],
 "metadata": {
  "kernelspec": {
   "display_name": "Python 3",
   "language": "python",
   "name": "python3"
  },
  "language_info": {
   "codemirror_mode": {
    "name": "ipython",
    "version": 3
   },
   "file_extension": ".py",
   "mimetype": "text/x-python",
   "name": "python",
   "nbconvert_exporter": "python",
   "pygments_lexer": "ipython3",
   "version": "3.9.2"
  }
 },
 "nbformat": 4,
 "nbformat_minor": 5
}
