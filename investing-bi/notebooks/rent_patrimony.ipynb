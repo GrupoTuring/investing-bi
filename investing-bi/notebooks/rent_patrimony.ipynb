{
 "cells": [
  {
   "cell_type": "code",
   "execution_count": 12,
   "id": "olive-cannon",
   "metadata": {},
   "outputs": [],
   "source": [
    "import sys\n",
    "\n",
    "sys.path.append('..')\n",
    "\n",
    "import pandas as pd \n",
    "import numpy as np\n",
    "from matplotlib import pyplot as plt\n",
    "\n",
    "from utils import get_wallet\n",
    "from prices import get_portfolio_prices"
   ]
  },
  {
   "cell_type": "code",
   "execution_count": 13,
   "id": "subtle-hudson",
   "metadata": {},
   "outputs": [],
   "source": [
    "def mount_wallet_data_frame(google_sheet_key: str) -> pd.DataFrame:\n",
    "    \n",
    "    wallet_items = get_wallet(google_sheet_key)\n",
    "    \n",
    "    wallet = pd.DataFrame(wallet_items).set_index('Date')\n",
    "    \n",
    "    wallet.index = pd.to_datetime(wallet.index)\n",
    "    \n",
    "    return wallet"
   ]
  },
  {
   "cell_type": "code",
   "execution_count": 14,
   "id": "fancy-friday",
   "metadata": {},
   "outputs": [],
   "source": [
    "def get_assets_by_type(wallet, asset_type):\n",
    "    \n",
    "    asset_filter = wallet[wallet.asset_type == asset_type]\n",
    "    \n",
    "    assets = set(asset_filter.asset_name.to_list())\n",
    "    \n",
    "    return assets"
   ]
  },
  {
   "cell_type": "code",
   "execution_count": 15,
   "id": "absolute-princeton",
   "metadata": {},
   "outputs": [],
   "source": [
    "def get_portfolio_performace(wallet):\n",
    "    \n",
    "    funds = get_assets_by_type(wallet, 'fund')\n",
    "    stocks = get_assets_by_type(wallet, 'stock')\n",
    "    etfs = get_assets_by_type(wallet, 'etf')\n",
    "    \n",
    "    allocations = wallet.pivot(columns = 'asset_name').value.fillna(0)\n",
    "    \n",
    "    portfolio_prices = get_portfolio_prices(stocks, funds, etfs, start_date='01/01/2018').asfreq('B')\n",
    "    \n",
    "    return portfolio_prices"
   ]
  },
  {
   "cell_type": "code",
   "execution_count": 16,
   "id": "elect-mailman",
   "metadata": {},
   "outputs": [],
   "source": [
    "def mount_wallet_shares(wallet, prices):\n",
    "    \n",
    "    wallet_shares = []\n",
    "    \n",
    "    for i in range(len(wallet)):\n",
    "        \n",
    "        asset_name = wallet.iloc[i].asset_name\n",
    "        value = wallet.iloc[i].value\n",
    "        date = wallet.index[i]\n",
    "        \n",
    "        shares = float(value) / prices[asset_name][date]\n",
    "        \n",
    "        wallet_shares.append(shares)\n",
    "        \n",
    "    wallet['shares'] = wallet_shares \n",
    "    \n",
    "    for asset in wallet.asset_name.unique():\n",
    "        \n",
    "        wallet.loc[wallet.asset_name == asset, 'shares'] = wallet[wallet.asset_name == asset].shares.cumsum()\n",
    "    \n",
    "    return wallet"
   ]
  },
  {
   "cell_type": "code",
   "execution_count": 25,
   "id": "moral-apparel",
   "metadata": {},
   "outputs": [],
   "source": [
    "def get_allocation_time_series(wallet):\n",
    "    \n",
    "    allocations = wallet.pivot(columns = 'asset_name').shares.asfreq('B')\n",
    "    \n",
    "    last_date = allocations.index[-1]\n",
    "    \n",
    "    df = pd.DataFrame(pd.date_range(start=last_date, end='2021-04-07', freq='B'))\n",
    "    df.columns = ['Date']\n",
    "    \n",
    "    allocations = allocations.merge(df, on='Date', how='outer').set_index('Date')\n",
    "    \n",
    "    allocations = allocations.fillna(method='ffill').astype(np.float64).asfreq('B')\n",
    "    \n",
    "    return allocations"
   ]
  },
  {
   "cell_type": "code",
   "execution_count": 28,
   "id": "invisible-western",
   "metadata": {},
   "outputs": [],
   "source": [
    "def get_portfolio(prices, allocations):\n",
    "    \n",
    "    portfolio = (prices.loc[:, allocations.columns] * allocations).asfreq('B').fillna(method='ffill')\n",
    "    \n",
    "    return portfolio\n",
    "\n",
    "def get_patrimony(portfolio):\n",
    "    \n",
    "    patrimony = portfolio.sum(axis=1)\n",
    "    \n",
    "    return patrimony"
   ]
  },
  {
   "cell_type": "code",
   "execution_count": 32,
   "id": "sensitive-welcome",
   "metadata": {},
   "outputs": [],
   "source": [
    "def get_returns(prices, portfolio):\n",
    "    \n",
    "    weights = portfolio.div(portfolio.sum(axis=1), axis=0).fillna(0)\n",
    "    \n",
    "    returns = pd.DataFrame(index = weights.index)\n",
    "    returns['Returns'] = 0\n",
    "\n",
    "    for time in weights.index:\n",
    "        returns['Returns'].loc[time] = np.dot(prices.pct_change().loc[time], weights.loc[time])\n",
    "        \n",
    "    return returns"
   ]
  },
  {
   "cell_type": "code",
   "execution_count": 36,
   "id": "previous-customer",
   "metadata": {},
   "outputs": [],
   "source": [
    "def get_cumulative_returns(prices, portfolio):\n",
    "    \n",
    "    returns = get_returns(prices, portfolio)\n",
    "                          \n",
    "    cumulative_returns = (1 + returns).cumprod()\n",
    "                          \n",
    "    return cumulative_returns"
   ]
  },
  {
   "cell_type": "code",
   "execution_count": 39,
   "id": "searching-surgery",
   "metadata": {},
   "outputs": [],
   "source": [
    "wallet = mount_wallet_data_frame('14KWHuqot8Fr74-Yw4x0brDDdSZDoQL7SBiN1Q5vL188')"
   ]
  },
  {
   "cell_type": "code",
   "execution_count": 40,
   "id": "modified-consortium",
   "metadata": {},
   "outputs": [],
   "source": [
    "portfolio_prices = get_portfolio_performace(wallet)\n",
    "prices = portfolio_prices['Close']"
   ]
  },
  {
   "cell_type": "code",
   "execution_count": 41,
   "id": "simple-bennett",
   "metadata": {},
   "outputs": [],
   "source": [
    "shares = mount_wallet_shares(wallet, prices)"
   ]
  },
  {
   "cell_type": "code",
   "execution_count": 42,
   "id": "ecological-bennett",
   "metadata": {},
   "outputs": [],
   "source": [
    "allocations = get_allocation_time_series(shares)"
   ]
  },
  {
   "cell_type": "code",
   "execution_count": 43,
   "id": "proud-latitude",
   "metadata": {},
   "outputs": [],
   "source": [
    "portfolio = get_portfolio(prices, allocations)"
   ]
  },
  {
   "cell_type": "code",
   "execution_count": 44,
   "id": "rapid-supplier",
   "metadata": {},
   "outputs": [],
   "source": [
    "patrimony = get_patrimony(portfolio)"
   ]
  },
  {
   "cell_type": "code",
   "execution_count": 45,
   "id": "alternative-wallet",
   "metadata": {},
   "outputs": [],
   "source": [
    "returns = get_returns(prices, portfolio)"
   ]
  },
  {
   "cell_type": "code",
   "execution_count": 46,
   "id": "spatial-identification",
   "metadata": {},
   "outputs": [],
   "source": [
    "cumulative_returns = get_cumulative_returns(prices, portfolio)"
   ]
  },
  {
   "cell_type": "code",
   "execution_count": null,
   "id": "pharmaceutical-participant",
   "metadata": {},
   "outputs": [],
   "source": [
    "# Váriaveis finais cumulative_returns, returns, patrimony. Calcular métricas a partir da variável de returns"
   ]
  }
 ],
 "metadata": {
  "kernelspec": {
   "display_name": "Python 3",
   "language": "python",
   "name": "python3"
  },
  "language_info": {
   "codemirror_mode": {
    "name": "ipython",
    "version": 3
   },
   "file_extension": ".py",
   "mimetype": "text/x-python",
   "name": "python",
   "nbconvert_exporter": "python",
   "pygments_lexer": "ipython3",
   "version": "3.9.2"
  }
 },
 "nbformat": 4,
 "nbformat_minor": 5
}
