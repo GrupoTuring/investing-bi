{
 "cells": [
  {
   "cell_type": "code",
   "execution_count": 1,
   "id": "adolescent-reservation",
   "metadata": {},
   "outputs": [],
   "source": [
    "import pandas as pd \n",
    "import numpy as np\n",
    "from matplotlib import pyplot as plt\n",
    "\n",
    "from utils import get_wallet\n",
    "from portfolio_prices import get_portfolio_prices"
   ]
  },
  {
   "cell_type": "code",
   "execution_count": 84,
   "id": "adapted-settlement",
   "metadata": {},
   "outputs": [],
   "source": [
    "def mount_wallet_data_frame(google_sheet_key: str) -> pd.DataFrame:\n",
    "    \n",
    "    wallet_items = get_wallet(google_sheet_key)\n",
    "    \n",
    "    wallet = pd.DataFrame(wallet_items).set_index('Date')\n",
    "    \n",
    "    wallet.index = pd.to_datetime(wallet.index, format = '%d/%m/%Y')\n",
    "    \n",
    "    return wallet"
   ]
  },
  {
   "cell_type": "code",
   "execution_count": 85,
   "id": "enhanced-textbook",
   "metadata": {},
   "outputs": [],
   "source": [
    "def get_assets_by_type(wallet, asset_type):\n",
    "    \n",
    "    asset_filter = wallet[wallet.asset_type == asset_type]\n",
    "    \n",
    "    assets = set(asset_filter.asset_name.to_list())\n",
    "    \n",
    "    return assets"
   ]
  },
  {
   "cell_type": "code",
   "execution_count": 86,
   "id": "union-principal",
   "metadata": {},
   "outputs": [],
   "source": [
    "def get_portfolio_performace(wallet):\n",
    "    \n",
    "    funds = get_assets_by_type(wallet, 'fund')\n",
    "    stocks = get_assets_by_type(wallet, 'stock')\n",
    "    etfs = get_assets_by_type(wallet, 'etf')\n",
    "    \n",
    "    allocations = wallet.pivot(columns = 'asset_name').value.fillna(0)\n",
    "    \n",
    "    portfolio_prices = get_portfolio_prices(stocks, funds, etfs, start_date='01/01/2018').asfreq('B')\n",
    "    \n",
    "    return portfolio_prices"
   ]
  },
  {
   "cell_type": "code",
   "execution_count": 87,
   "id": "exterior-poker",
   "metadata": {},
   "outputs": [],
   "source": [
    "def mount_wallet_shares(wallet, prices):\n",
    "    \n",
    "    wallet_shares = []\n",
    "    \n",
    "    for i in range(len(wallet)):\n",
    "        \n",
    "        asset_name = wallet.iloc[i].asset_name\n",
    "        value = wallet.iloc[i].value\n",
    "        date = wallet.index[i]\n",
    "        \n",
    "        shares = float(value) / prices[asset_name][date]\n",
    "        \n",
    "        wallet_shares.append(shares)\n",
    "        \n",
    "    wallet['shares'] = wallet_shares \n",
    "    \n",
    "    for asset in wallet.asset_name.unique():\n",
    "        \n",
    "        wallet.loc[wallet.asset_name == asset, 'shares'] = wallet[wallet.asset_name == asset].shares.cumsum()\n",
    "    \n",
    "    return wallet"
   ]
  },
  {
   "cell_type": "code",
   "execution_count": 88,
   "id": "reduced-finnish",
   "metadata": {},
   "outputs": [],
   "source": [
    "wallet = mount_wallet_data_frame('14KWHuqot8Fr74-Yw4x0brDDdSZDoQL7SBiN1Q5vL188')"
   ]
  },
  {
   "cell_type": "code",
   "execution_count": 89,
   "id": "collective-image",
   "metadata": {},
   "outputs": [],
   "source": [
    "portfolio_prices = get_portfolio_performace(wallet)\n",
    "prices = portfolio_prices['Close']"
   ]
  },
  {
   "cell_type": "code",
   "execution_count": 90,
   "id": "fallen-wheel",
   "metadata": {},
   "outputs": [],
   "source": [
    "shares = mount_wallet_shares(wallet, prices)"
   ]
  },
  {
   "cell_type": "code",
   "execution_count": 91,
   "id": "appropriate-orientation",
   "metadata": {},
   "outputs": [
    {
     "data": {
      "text/html": [
       "<div>\n",
       "<style scoped>\n",
       "    .dataframe tbody tr th:only-of-type {\n",
       "        vertical-align: middle;\n",
       "    }\n",
       "\n",
       "    .dataframe tbody tr th {\n",
       "        vertical-align: top;\n",
       "    }\n",
       "\n",
       "    .dataframe thead th {\n",
       "        text-align: right;\n",
       "    }\n",
       "</style>\n",
       "<table border=\"1\" class=\"dataframe\">\n",
       "  <thead>\n",
       "    <tr style=\"text-align: right;\">\n",
       "      <th></th>\n",
       "      <th>asset_type</th>\n",
       "      <th>asset_name</th>\n",
       "      <th>value</th>\n",
       "      <th>shares</th>\n",
       "    </tr>\n",
       "    <tr>\n",
       "      <th>Date</th>\n",
       "      <th></th>\n",
       "      <th></th>\n",
       "      <th></th>\n",
       "      <th></th>\n",
       "    </tr>\n",
       "  </thead>\n",
       "  <tbody>\n",
       "    <tr>\n",
       "      <th>2020-09-15</th>\n",
       "      <td>stock</td>\n",
       "      <td>PETR4</td>\n",
       "      <td>1000</td>\n",
       "      <td>46.146747</td>\n",
       "    </tr>\n",
       "    <tr>\n",
       "      <th>2021-04-07</th>\n",
       "      <td>stock</td>\n",
       "      <td>LAME4</td>\n",
       "      <td>1000</td>\n",
       "      <td>45.065345</td>\n",
       "    </tr>\n",
       "    <tr>\n",
       "      <th>2020-12-17</th>\n",
       "      <td>stock</td>\n",
       "      <td>CIEL3</td>\n",
       "      <td>100</td>\n",
       "      <td>26.385224</td>\n",
       "    </tr>\n",
       "    <tr>\n",
       "      <th>2020-09-15</th>\n",
       "      <td>stock</td>\n",
       "      <td>BBDC4</td>\n",
       "      <td>1000</td>\n",
       "      <td>49.726504</td>\n",
       "    </tr>\n",
       "  </tbody>\n",
       "</table>\n",
       "</div>"
      ],
      "text/plain": [
       "           asset_type asset_name value     shares\n",
       "Date                                             \n",
       "2020-09-15      stock      PETR4  1000  46.146747\n",
       "2021-04-07      stock      LAME4  1000  45.065345\n",
       "2020-12-17      stock      CIEL3   100  26.385224\n",
       "2020-09-15      stock      BBDC4  1000  49.726504"
      ]
     },
     "execution_count": 91,
     "metadata": {},
     "output_type": "execute_result"
    }
   ],
   "source": [
    "shares"
   ]
  },
  {
   "cell_type": "code",
   "execution_count": 92,
   "id": "hawaiian-fleece",
   "metadata": {},
   "outputs": [],
   "source": [
    "def get_allocation_time_series(wallet):\n",
    "    \n",
    "    allocations = wallet.pivot(columns = 'asset_name').shares.asfreq('B')\n",
    "    \n",
    "    last_date = allocations.index[-1]\n",
    "    \n",
    "    df = pd.DataFrame(pd.date_range(start=last_date, end='2021-04-09', freq='B'))\n",
    "    df.columns = ['Date']\n",
    "    \n",
    "    allocations = allocations.merge(df, on='Date', how='outer').set_index('Date')\n",
    "    \n",
    "    allocations = allocations.fillna(method='ffill').astype(np.float64).asfreq('B')\n",
    "    \n",
    "    return allocations"
   ]
  },
  {
   "cell_type": "code",
   "execution_count": 93,
   "id": "african-boxing",
   "metadata": {},
   "outputs": [],
   "source": [
    "allocations = get_allocation_time_series(shares)"
   ]
  },
  {
   "cell_type": "code",
   "execution_count": 94,
   "id": "devoted-anatomy",
   "metadata": {},
   "outputs": [
    {
     "data": {
      "text/html": [
       "<div>\n",
       "<style scoped>\n",
       "    .dataframe tbody tr th:only-of-type {\n",
       "        vertical-align: middle;\n",
       "    }\n",
       "\n",
       "    .dataframe tbody tr th {\n",
       "        vertical-align: top;\n",
       "    }\n",
       "\n",
       "    .dataframe thead th {\n",
       "        text-align: right;\n",
       "    }\n",
       "</style>\n",
       "<table border=\"1\" class=\"dataframe\">\n",
       "  <thead>\n",
       "    <tr style=\"text-align: right;\">\n",
       "      <th></th>\n",
       "      <th>BBDC4</th>\n",
       "      <th>CIEL3</th>\n",
       "      <th>LAME4</th>\n",
       "      <th>PETR4</th>\n",
       "    </tr>\n",
       "    <tr>\n",
       "      <th>Date</th>\n",
       "      <th></th>\n",
       "      <th></th>\n",
       "      <th></th>\n",
       "      <th></th>\n",
       "    </tr>\n",
       "  </thead>\n",
       "  <tbody>\n",
       "    <tr>\n",
       "      <th>2020-09-15</th>\n",
       "      <td>49.726504</td>\n",
       "      <td>NaN</td>\n",
       "      <td>NaN</td>\n",
       "      <td>46.146747</td>\n",
       "    </tr>\n",
       "    <tr>\n",
       "      <th>2020-09-16</th>\n",
       "      <td>49.726504</td>\n",
       "      <td>NaN</td>\n",
       "      <td>NaN</td>\n",
       "      <td>46.146747</td>\n",
       "    </tr>\n",
       "    <tr>\n",
       "      <th>2020-09-17</th>\n",
       "      <td>49.726504</td>\n",
       "      <td>NaN</td>\n",
       "      <td>NaN</td>\n",
       "      <td>46.146747</td>\n",
       "    </tr>\n",
       "    <tr>\n",
       "      <th>2020-09-18</th>\n",
       "      <td>49.726504</td>\n",
       "      <td>NaN</td>\n",
       "      <td>NaN</td>\n",
       "      <td>46.146747</td>\n",
       "    </tr>\n",
       "    <tr>\n",
       "      <th>2020-09-21</th>\n",
       "      <td>49.726504</td>\n",
       "      <td>NaN</td>\n",
       "      <td>NaN</td>\n",
       "      <td>46.146747</td>\n",
       "    </tr>\n",
       "    <tr>\n",
       "      <th>...</th>\n",
       "      <td>...</td>\n",
       "      <td>...</td>\n",
       "      <td>...</td>\n",
       "      <td>...</td>\n",
       "    </tr>\n",
       "    <tr>\n",
       "      <th>2021-04-05</th>\n",
       "      <td>49.726504</td>\n",
       "      <td>26.385224</td>\n",
       "      <td>NaN</td>\n",
       "      <td>46.146747</td>\n",
       "    </tr>\n",
       "    <tr>\n",
       "      <th>2021-04-06</th>\n",
       "      <td>49.726504</td>\n",
       "      <td>26.385224</td>\n",
       "      <td>NaN</td>\n",
       "      <td>46.146747</td>\n",
       "    </tr>\n",
       "    <tr>\n",
       "      <th>2021-04-07</th>\n",
       "      <td>49.726504</td>\n",
       "      <td>26.385224</td>\n",
       "      <td>45.065345</td>\n",
       "      <td>46.146747</td>\n",
       "    </tr>\n",
       "    <tr>\n",
       "      <th>2021-04-08</th>\n",
       "      <td>49.726504</td>\n",
       "      <td>26.385224</td>\n",
       "      <td>45.065345</td>\n",
       "      <td>46.146747</td>\n",
       "    </tr>\n",
       "    <tr>\n",
       "      <th>2021-04-09</th>\n",
       "      <td>49.726504</td>\n",
       "      <td>26.385224</td>\n",
       "      <td>45.065345</td>\n",
       "      <td>46.146747</td>\n",
       "    </tr>\n",
       "  </tbody>\n",
       "</table>\n",
       "<p>149 rows × 4 columns</p>\n",
       "</div>"
      ],
      "text/plain": [
       "                BBDC4      CIEL3      LAME4      PETR4\n",
       "Date                                                  \n",
       "2020-09-15  49.726504        NaN        NaN  46.146747\n",
       "2020-09-16  49.726504        NaN        NaN  46.146747\n",
       "2020-09-17  49.726504        NaN        NaN  46.146747\n",
       "2020-09-18  49.726504        NaN        NaN  46.146747\n",
       "2020-09-21  49.726504        NaN        NaN  46.146747\n",
       "...               ...        ...        ...        ...\n",
       "2021-04-05  49.726504  26.385224        NaN  46.146747\n",
       "2021-04-06  49.726504  26.385224        NaN  46.146747\n",
       "2021-04-07  49.726504  26.385224  45.065345  46.146747\n",
       "2021-04-08  49.726504  26.385224  45.065345  46.146747\n",
       "2021-04-09  49.726504  26.385224  45.065345  46.146747\n",
       "\n",
       "[149 rows x 4 columns]"
      ]
     },
     "execution_count": 94,
     "metadata": {},
     "output_type": "execute_result"
    }
   ],
   "source": [
    "allocations"
   ]
  },
  {
   "cell_type": "code",
   "execution_count": 95,
   "id": "protective-hamilton",
   "metadata": {},
   "outputs": [],
   "source": [
    "def get_portfolio(prices, allocations):\n",
    "    \n",
    "    portfolio = (prices.loc[:, allocations.columns] * allocations).asfreq('B').fillna(method='ffill')\n",
    "    \n",
    "    return portfolio\n",
    "\n",
    "def get_patrimony(portfolio):\n",
    "    \n",
    "    patrimony = portfolio.sum(axis=1)\n",
    "    \n",
    "    return patrimony"
   ]
  },
  {
   "cell_type": "code",
   "execution_count": 96,
   "id": "imperial-begin",
   "metadata": {},
   "outputs": [],
   "source": [
    "portfolio = get_portfolio(prices, allocations)"
   ]
  },
  {
   "cell_type": "code",
   "execution_count": 97,
   "id": "configured-annual",
   "metadata": {},
   "outputs": [
    {
     "data": {
      "text/plain": [
       "<AxesSubplot:xlabel='Date'>"
      ]
     },
     "execution_count": 97,
     "metadata": {},
     "output_type": "execute_result"
    },
    {
     "data": {
      "image/png": "[encoded data removed]",
      "text/plain": [
       "<Figure size 432x288 with 1 Axes>"
      ]
     },
     "metadata": {
      "needs_background": "light"
     },
     "output_type": "display_data"
    }
   ],
   "source": [
    "get_patrimony(portfolio).loc['2020-12':].plot()"
   ]
  },
  {
   "cell_type": "code",
   "execution_count": 98,
   "id": "dependent-windsor",
   "metadata": {},
   "outputs": [],
   "source": [
    "def get_returns(prices, portfolio):\n",
    "    \n",
    "    weights = portfolio.div(portfolio.sum(axis=1), axis=0).fillna(0)\n",
    "    \n",
    "    returns = pd.DataFrame(index = weights.index)\n",
    "    returns['Returns'] = 0\n",
    "\n",
    "    for time in weights.index:\n",
    "        returns['Returns'].loc[time] = np.dot(prices.pct_change().loc[time], weights.loc[time])\n",
    "        \n",
    "    return returns"
   ]
  },
  {
   "cell_type": "code",
   "execution_count": 99,
   "id": "transparent-dominican",
   "metadata": {},
   "outputs": [
    {
     "data": {
      "text/plain": [
       "<AxesSubplot:xlabel='Date'>"
      ]
     },
     "execution_count": 99,
     "metadata": {},
     "output_type": "execute_result"
    },
    {
     "data": {
      "image/png": "[encoded data removed]",
      "text/plain": [
       "<Figure size 432x288 with 1 Axes>"
      ]
     },
     "metadata": {
      "needs_background": "light"
     },
     "output_type": "display_data"
    }
   ],
   "source": [
    "get_returns(prices, portfolio).loc['2020-07':].plot()"
   ]
  },
  {
   "cell_type": "code",
   "execution_count": 100,
   "id": "central-photography",
   "metadata": {},
   "outputs": [],
   "source": [
    "def get_cumulative_returns(prices, portfolio):\n",
    "    \n",
    "    returns = get_returns(prices, portfolio)\n",
    "                          \n",
    "    cumulative_returns = (1 + returns).cumprod()\n",
    "                          \n",
    "    return cumulative_returns"
   ]
  },
  {
   "cell_type": "code",
   "execution_count": 101,
   "id": "pointed-guard",
   "metadata": {},
   "outputs": [
    {
     "data": {
      "text/plain": [
       "<AxesSubplot:xlabel='Date'>"
      ]
     },
     "execution_count": 101,
     "metadata": {},
     "output_type": "execute_result"
    },
    {
     "data": {
      "image/png": "[encoded data removed]",
      "text/plain": [
       "<Figure size 432x288 with 1 Axes>"
      ]
     },
     "metadata": {
      "needs_background": "light"
     },
     "output_type": "display_data"
    }
   ],
   "source": [
    "get_cumulative_returns(prices, portfolio).loc['2020-07':].plot()"
   ]
  },
  {
   "cell_type": "code",
   "execution_count": null,
   "id": "christian-jurisdiction",
   "metadata": {},
   "outputs": [],
   "source": []
  }
 ],
 "metadata": {
  "kernelspec": {
   "display_name": "Python 3",
   "language": "python",
   "name": "python3"
  },
  "language_info": {
   "codemirror_mode": {
    "name": "ipython",
    "version": 3
   },
   "file_extension": ".py",
   "mimetype": "text/x-python",
   "name": "python",
   "nbconvert_exporter": "python",
   "pygments_lexer": "ipython3",
   "version": "3.9.2"
  }
 },
 "nbformat": 4,
 "nbformat_minor": 5
}
